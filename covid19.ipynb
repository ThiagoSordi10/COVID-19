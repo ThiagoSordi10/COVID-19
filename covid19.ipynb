{
 "cells": [
  {
   "cell_type": "markdown",
   "metadata": {},
   "source": [
    "# File 1"
   ]
  },
  {
   "cell_type": "markdown",
   "metadata": {},
   "source": [
    "### Import libs"
   ]
  },
  {
   "cell_type": "code",
   "execution_count": 148,
   "metadata": {},
   "outputs": [],
   "source": [
    "import pandas as pd\n",
    "import matplotlib.pyplot as plt\n",
    "import numpy as np\n",
    "\n",
    "from sklearn.linear_model import RidgeCV\n",
    "from sklearn.model_selection import cross_val_score, train_test_split\n",
    "from sklearn.linear_model import LinearRegression, BayesianRidge, Lars, Perceptron\n",
    "from sklearn import svm\n",
    "\n",
    "# Tested this libs below\n",
    "# from sklearn.ensemble import GradientBoostingRegressor\n",
    "# from sklearn.svm import SVR\n",
    "# from sklearn.pipeline import make_pipeline\n",
    "# from sklearn.preprocessing import StandardScaler"
   ]
  },
  {
   "cell_type": "markdown",
   "metadata": {},
   "source": [
    "### Import data and filter"
   ]
  },
  {
   "cell_type": "code",
   "execution_count": 2,
   "metadata": {},
   "outputs": [
    {
     "data": {
      "text/html": [
       "<div>\n",
       "<style scoped>\n",
       "    .dataframe tbody tr th:only-of-type {\n",
       "        vertical-align: middle;\n",
       "    }\n",
       "\n",
       "    .dataframe tbody tr th {\n",
       "        vertical-align: top;\n",
       "    }\n",
       "\n",
       "    .dataframe thead th {\n",
       "        text-align: right;\n",
       "    }\n",
       "</style>\n",
       "<table border=\"1\" class=\"dataframe\">\n",
       "  <thead>\n",
       "    <tr style=\"text-align: right;\">\n",
       "      <th></th>\n",
       "      <th>date</th>\n",
       "      <th>new_cases</th>\n",
       "      <th>new_deaths</th>\n",
       "    </tr>\n",
       "  </thead>\n",
       "  <tbody>\n",
       "    <tr>\n",
       "      <th>0</th>\n",
       "      <td>2019-12-31</td>\n",
       "      <td>27.0</td>\n",
       "      <td>0.0</td>\n",
       "    </tr>\n",
       "    <tr>\n",
       "      <th>1</th>\n",
       "      <td>2020-01-01</td>\n",
       "      <td>0.0</td>\n",
       "      <td>0.0</td>\n",
       "    </tr>\n",
       "    <tr>\n",
       "      <th>2</th>\n",
       "      <td>2020-01-02</td>\n",
       "      <td>0.0</td>\n",
       "      <td>0.0</td>\n",
       "    </tr>\n",
       "    <tr>\n",
       "      <th>3</th>\n",
       "      <td>2020-01-03</td>\n",
       "      <td>17.0</td>\n",
       "      <td>0.0</td>\n",
       "    </tr>\n",
       "    <tr>\n",
       "      <th>4</th>\n",
       "      <td>2020-01-04</td>\n",
       "      <td>0.0</td>\n",
       "      <td>0.0</td>\n",
       "    </tr>\n",
       "    <tr>\n",
       "      <th>...</th>\n",
       "      <td>...</td>\n",
       "      <td>...</td>\n",
       "      <td>...</td>\n",
       "    </tr>\n",
       "    <tr>\n",
       "      <th>314</th>\n",
       "      <td>2020-11-09</td>\n",
       "      <td>518194.0</td>\n",
       "      <td>6135.0</td>\n",
       "    </tr>\n",
       "    <tr>\n",
       "      <th>315</th>\n",
       "      <td>2020-11-10</td>\n",
       "      <td>554588.0</td>\n",
       "      <td>8172.0</td>\n",
       "    </tr>\n",
       "    <tr>\n",
       "      <th>316</th>\n",
       "      <td>2020-11-11</td>\n",
       "      <td>551098.0</td>\n",
       "      <td>9970.0</td>\n",
       "    </tr>\n",
       "    <tr>\n",
       "      <th>317</th>\n",
       "      <td>2020-11-12</td>\n",
       "      <td>583521.0</td>\n",
       "      <td>10208.0</td>\n",
       "    </tr>\n",
       "    <tr>\n",
       "      <th>318</th>\n",
       "      <td>2020-11-13</td>\n",
       "      <td>602850.0</td>\n",
       "      <td>7986.0</td>\n",
       "    </tr>\n",
       "  </tbody>\n",
       "</table>\n",
       "<p>319 rows × 3 columns</p>\n",
       "</div>"
      ],
      "text/plain": [
       "           date  new_cases  new_deaths\n",
       "0    2019-12-31       27.0         0.0\n",
       "1    2020-01-01        0.0         0.0\n",
       "2    2020-01-02        0.0         0.0\n",
       "3    2020-01-03       17.0         0.0\n",
       "4    2020-01-04        0.0         0.0\n",
       "..          ...        ...         ...\n",
       "314  2020-11-09   518194.0      6135.0\n",
       "315  2020-11-10   554588.0      8172.0\n",
       "316  2020-11-11   551098.0      9970.0\n",
       "317  2020-11-12   583521.0     10208.0\n",
       "318  2020-11-13   602850.0      7986.0\n",
       "\n",
       "[319 rows x 3 columns]"
      ]
     },
     "execution_count": 2,
     "metadata": {},
     "output_type": "execute_result"
    }
   ],
   "source": [
    "df = pd.read_csv(\"https://raw.githubusercontent.com/owid/covid-19-data/master/public/data/owid-covid-data.csv\")\n",
    "df = df[df.location == \"World\"] # take just data grouped already (world)\n",
    "df.drop(['iso_code', 'continent', 'location'], axis=1, inplace=True)\n",
    "df = df.loc[:, ['date','new_cases']] #Just need these two columns\n",
    "df = df.reset_index(drop=True) \n",
    "df"
   ]
  },
  {
   "cell_type": "markdown",
   "metadata": {},
   "source": [
    "### Verify if there is some relation between dates and new cases"
   ]
  },
  {
   "cell_type": "code",
   "execution_count": 3,
   "metadata": {},
   "outputs": [
    {
     "data": {
      "text/plain": [
       "Text(0.5, 0, 'data')"
      ]
     },
     "execution_count": 3,
     "metadata": {},
     "output_type": "execute_result"
    },
    {
     "data": {
      "image/png": "[encoded data removed]",
      "text/plain": [
       "<Figure size 432x288 with 1 Axes>"
      ]
     },
     "metadata": {
      "needs_background": "light"
     },
     "output_type": "display_data"
    }
   ],
   "source": [
    "plt.scatter(df['date'], df['new_cases'])\n",
    "plt.ylabel('novos casos')\n",
    "plt.xlabel('data')"
   ]
  },
  {
   "cell_type": "markdown",
   "metadata": {},
   "source": [
    "We can see that as the days were going (not so much in the beginning) the number of new cases grew together."
   ]
  },
  {
   "cell_type": "markdown",
   "metadata": {},
   "source": [
    "### Prepare data to use in the model"
   ]
  },
  {
   "cell_type": "code",
   "execution_count": 202,
   "metadata": {},
   "outputs": [
    {
     "data": {
      "text/html": [
       "<div>\n",
       "<style scoped>\n",
       "    .dataframe tbody tr th:only-of-type {\n",
       "        vertical-align: middle;\n",
       "    }\n",
       "\n",
       "    .dataframe tbody tr th {\n",
       "        vertical-align: top;\n",
       "    }\n",
       "\n",
       "    .dataframe thead th {\n",
       "        text-align: right;\n",
       "    }\n",
       "</style>\n",
       "<table border=\"1\" class=\"dataframe\">\n",
       "  <thead>\n",
       "    <tr style=\"text-align: right;\">\n",
       "      <th></th>\n",
       "      <th>date</th>\n",
       "      <th>new_cases</th>\n",
       "      <th>new_deaths</th>\n",
       "      <th>days</th>\n",
       "    </tr>\n",
       "  </thead>\n",
       "  <tbody>\n",
       "    <tr>\n",
       "      <th>0</th>\n",
       "      <td>2019-12-31</td>\n",
       "      <td>27.0</td>\n",
       "      <td>0.0</td>\n",
       "      <td>1</td>\n",
       "    </tr>\n",
       "    <tr>\n",
       "      <th>1</th>\n",
       "      <td>2020-01-01</td>\n",
       "      <td>0.0</td>\n",
       "      <td>0.0</td>\n",
       "      <td>2</td>\n",
       "    </tr>\n",
       "    <tr>\n",
       "      <th>2</th>\n",
       "      <td>2020-01-02</td>\n",
       "      <td>0.0</td>\n",
       "      <td>0.0</td>\n",
       "      <td>3</td>\n",
       "    </tr>\n",
       "    <tr>\n",
       "      <th>3</th>\n",
       "      <td>2020-01-03</td>\n",
       "      <td>17.0</td>\n",
       "      <td>0.0</td>\n",
       "      <td>4</td>\n",
       "    </tr>\n",
       "    <tr>\n",
       "      <th>4</th>\n",
       "      <td>2020-01-04</td>\n",
       "      <td>0.0</td>\n",
       "      <td>0.0</td>\n",
       "      <td>5</td>\n",
       "    </tr>\n",
       "    <tr>\n",
       "      <th>...</th>\n",
       "      <td>...</td>\n",
       "      <td>...</td>\n",
       "      <td>...</td>\n",
       "      <td>...</td>\n",
       "    </tr>\n",
       "    <tr>\n",
       "      <th>314</th>\n",
       "      <td>2020-11-09</td>\n",
       "      <td>518194.0</td>\n",
       "      <td>6135.0</td>\n",
       "      <td>315</td>\n",
       "    </tr>\n",
       "    <tr>\n",
       "      <th>315</th>\n",
       "      <td>2020-11-10</td>\n",
       "      <td>554588.0</td>\n",
       "      <td>8172.0</td>\n",
       "      <td>316</td>\n",
       "    </tr>\n",
       "    <tr>\n",
       "      <th>316</th>\n",
       "      <td>2020-11-11</td>\n",
       "      <td>551098.0</td>\n",
       "      <td>9970.0</td>\n",
       "      <td>317</td>\n",
       "    </tr>\n",
       "    <tr>\n",
       "      <th>317</th>\n",
       "      <td>2020-11-12</td>\n",
       "      <td>583521.0</td>\n",
       "      <td>10208.0</td>\n",
       "      <td>318</td>\n",
       "    </tr>\n",
       "    <tr>\n",
       "      <th>318</th>\n",
       "      <td>2020-11-13</td>\n",
       "      <td>602850.0</td>\n",
       "      <td>7986.0</td>\n",
       "      <td>319</td>\n",
       "    </tr>\n",
       "  </tbody>\n",
       "</table>\n",
       "<p>319 rows × 4 columns</p>\n",
       "</div>"
      ],
      "text/plain": [
       "           date  new_cases  new_deaths  days\n",
       "0    2019-12-31       27.0         0.0     1\n",
       "1    2020-01-01        0.0         0.0     2\n",
       "2    2020-01-02        0.0         0.0     3\n",
       "3    2020-01-03       17.0         0.0     4\n",
       "4    2020-01-04        0.0         0.0     5\n",
       "..          ...        ...         ...   ...\n",
       "314  2020-11-09   518194.0      6135.0   315\n",
       "315  2020-11-10   554588.0      8172.0   316\n",
       "316  2020-11-11   551098.0      9970.0   317\n",
       "317  2020-11-12   583521.0     10208.0   318\n",
       "318  2020-11-13   602850.0      7986.0   319\n",
       "\n",
       "[319 rows x 4 columns]"
      ]
     },
     "execution_count": 202,
     "metadata": {},
     "output_type": "execute_result"
    }
   ],
   "source": [
    "# Cases will be used as input for the model\n",
    "cases = df['new_cases'].to_numpy()             \n",
    "\n",
    "# Build an array of days to use to plot and when the user enter with the number of days ahead to predict\n",
    "days = []\n",
    "count = 0\n",
    "for elements in cases:\n",
    "  count += 1\n",
    "  days.append(count)\n",
    "df['days'] = days\n",
    "df"
   ]
  },
  {
   "cell_type": "code",
   "execution_count": 203,
   "metadata": {},
   "outputs": [],
   "source": [
    "days_after = 9\n",
    "size = (len(cases) , days_after)\n",
    "x = np.zeros(size)\n",
    "y = np.zeros(len(cases))\n",
    "\n",
    "# The idea is to use a group cases of many days to predict the number of cases of one single day \n",
    "for i in range(len(cases) - days_after):\n",
    "  temp = np.zeros(days_after)\n",
    "  # Take the days_after's value of elements since i, for cases\n",
    "  temp[0 : days_after] = cases[i : i+ days_after]\n",
    "  x[i] = temp\n",
    "  \n",
    "  y[i] = cases[i+days_after] # take the number of cases as labels"
   ]
  },
  {
   "cell_type": "code",
   "execution_count": 204,
   "metadata": {},
   "outputs": [],
   "source": [
    "# Drop the last n days_after of arrays because it only gets 0 \n",
    "x = x[0:len(df) - days_after]\n",
    "y = y[0:len(df) - days_after]\n",
    "# Then drop the value of number days since this values aren't in the x and y anymore\n",
    "days = days[0:len(df) - days_after]"
   ]
  },
  {
   "cell_type": "code",
   "execution_count": 205,
   "metadata": {},
   "outputs": [],
   "source": [
    "split = int(0.67*len(x))\n",
    "days = days[split:]"
   ]
  },
  {
   "cell_type": "markdown",
   "metadata": {},
   "source": [
    "### Split data, build and train model, and validate"
   ]
  },
  {
   "cell_type": "code",
   "execution_count": 206,
   "metadata": {},
   "outputs": [
    {
     "name": "stdout",
     "output_type": "stream",
     "text": [
      "13075.67387929717\n"
     ]
    },
    {
     "data": {
      "text/plain": [
       "array([0.96207261, 0.96698077])"
      ]
     },
     "execution_count": 206,
     "metadata": {},
     "output_type": "execute_result"
    },
    {
     "data": {
      "image/png": "[encoded data removed]",
      "text/plain": [
       "<Figure size 432x288 with 1 Axes>"
      ]
     },
     "metadata": {
      "needs_background": "light"
     },
     "output_type": "display_data"
    }
   ],
   "source": [
    "model = Lars(n_nonzero_coefs=1000)\n",
    "X_train, X_test, y_train, y_test = x[:split], x[split:], y[:split], y[split:]\n",
    "# X_train, X_test, y_train, y_test = train_test_split(x, y, test_size=0.33, random_state=42)\n",
    "model.fit(X_train, y_train)\n",
    "print(\"{}\".format(np.linalg.norm(model.predict(X_test) - y_test, 1)/len(y_test)))\n",
    "predict = model.predict(X_test)\n",
    "plt.title(\"Prediction x Real data\")\n",
    "plt.ticklabel_format(style='plain')\n",
    "plt.plot( days, predict, label = \"predicion\")\n",
    "plt.plot( days, y_test,  label = \"real\")\n",
    "plt.xlabel(\"Global cases' days\")\n",
    "plt.ylabel(\"Number of global cases\")\n",
    "plt.legend()\n",
    "cross_val_score(model, X_train, y_train, cv = 2)"
   ]
  },
  {
   "cell_type": "code",
   "execution_count": 212,
   "metadata": {},
   "outputs": [
    {
     "data": {
      "text/plain": [
       "0.972320499220924"
      ]
     },
     "execution_count": 212,
     "metadata": {},
     "output_type": "execute_result"
    }
   ],
   "source": [
    "model.score(X_test, y_test)"
   ]
  },
  {
   "cell_type": "markdown",
   "metadata": {},
   "source": [
    "### Save model"
   ]
  },
  {
   "cell_type": "code",
   "execution_count": 208,
   "metadata": {},
   "outputs": [],
   "source": [
    "import pickle\n",
    "# save the model to disk\n",
    "filename = 'model.sav'\n",
    "pickle.dump(model, open(filename, 'wb'))\n",
    " "
   ]
  },
  {
   "cell_type": "markdown",
   "metadata": {},
   "source": [
    "# File 2"
   ]
  },
  {
   "cell_type": "markdown",
   "metadata": {},
   "source": [
    "### Load the model"
   ]
  },
  {
   "cell_type": "code",
   "execution_count": 225,
   "metadata": {},
   "outputs": [
    {
     "name": "stderr",
     "output_type": "stream",
     "text": [
      "/opt/conda/lib/python3.8/site-packages/sklearn/utils/deprecation.py:143: FutureWarning: The sklearn.linear_model.least_angle module is  deprecated in version 0.22 and will be removed in version 0.24. The corresponding classes / functions should instead be imported from sklearn.linear_model. Anything that cannot be imported from sklearn.linear_model is now part of the private API.\n",
      "  warnings.warn(message, FutureWarning)\n",
      "/opt/conda/lib/python3.8/site-packages/sklearn/base.py:329: UserWarning: Trying to unpickle estimator Lars from version 0.21.2 when using version 0.23.2. This might lead to breaking code or invalid results. Use at your own risk.\n",
      "  warnings.warn(\n"
     ]
    }
   ],
   "source": [
    "\n",
    "# some time later...\n",
    " \n",
    "# load the model from disk\n",
    "loaded_model = pickle.load(open(filename, 'rb'))"
   ]
  },
  {
   "cell_type": "markdown",
   "metadata": {},
   "source": [
    "### Predict the next days number of new cases"
   ]
  },
  {
   "cell_type": "code",
   "execution_count": 226,
   "metadata": {},
   "outputs": [
    {
     "name": "stdout",
     "output_type": "stream",
     "text": [
      "D 1 : 603380\n",
      "Today's date : 2020-11-13\n",
      "D 2 : 582466\n",
      "Today's date : 2020-11-13\n",
      "D 3 : 554196\n",
      "Today's date : 2020-11-13\n",
      "D 4 : 562674\n",
      "Today's date : 2020-11-13\n",
      "D 5 : 589998\n",
      "Today's date : 2020-11-13\n",
      "D 6 : 610076\n",
      "Today's date : 2020-11-13\n",
      "D 7 : 636350\n",
      "Today's date : 2020-11-13\n",
      "D 8 : 633752\n",
      "Today's date : 2020-11-13\n",
      "D 9 : 610660\n",
      "Today's date : 2020-11-13\n",
      "D 10 : 588210\n",
      "Today's date : 2020-11-13\n"
     ]
    }
   ],
   "source": [
    "from datetime import date\n",
    "size = (2 , days_after) \n",
    "def predict(n_days):\n",
    "    new_cases = cases\n",
    "    for i in range(1, n_days+1):\n",
    "        currentX = np.zeros(size)\n",
    "        temp = np.zeros(days_after)\n",
    "        temp[:days_after] = new_cases[-days_after:] # the last n days_after cases\n",
    "        currentX[0] = temp\n",
    "        currentX[1] = temp\n",
    "\n",
    "        prediction = loaded_model.predict(currentX)\n",
    "        prediction = prediction[0]\n",
    "        new_cases = np.append(new_cases, prediction)\n",
    "        print(\"D \"+str(i)+\" : \" + str(int(prediction)))\n",
    "        print(\"Today's date : \" + str(date.today()))\n",
    "    \n",
    "predict(10)"
   ]
  }
 ],
 "metadata": {
  "kernelspec": {
   "display_name": "Python 3",
   "language": "python",
   "name": "python3"
  },
  "language_info": {
   "codemirror_mode": {
    "name": "ipython",
    "version": 3
   },
   "file_extension": ".py",
   "mimetype": "text/x-python",
   "name": "python",
   "nbconvert_exporter": "python",
   "pygments_lexer": "ipython3",
   "version": "3.8.6"
  }
 },
 "nbformat": 4,
 "nbformat_minor": 4
}
